{
 "cells": [
  {
   "cell_type": "markdown",
   "id": "2d5629b4",
   "metadata": {},
   "source": [
    "# Generating Multiple Sequence Alignement given PDB structure\n",
    "\n",
    "Given a PDB structure file we use ProDy to search all available Pfam alignments for the best matching Multiple Sequence Alignment (MSA)"
   ]
  },
  {
   "cell_type": "code",
   "execution_count": 12,
   "id": "27ad6abf",
   "metadata": {},
   "outputs": [],
   "source": [
    "# Initial Import\n",
    "\n",
    "# System packages\n",
    "import os.path, sys\n",
    "from pathlib import Path\n",
    "\n",
    "\n",
    "# Scientific Computing packages\n",
    "import numpy as np\n",
    "np.random.seed(1) # set random seed for reproducibility\n",
    "import pandas as pd\n",
    "from scipy import linalg\n",
    "from scipy.sparse import csr_matrix\n",
    "from sklearn.preprocessing import OneHotEncoder\n",
    "from scipy.spatial import distance_matrix\n",
    "\n",
    "\n",
    "# Biopython packages\n",
    "import Bio.PDB, warnings\n",
    "pdb_list = Bio.PDB.PDBList()\n",
    "pdb_parser = Bio.PDB.PDBParser()\n",
    "from Bio import BiopythonWarning\n",
    "warnings.simplefilter('ignore', BiopythonWarning)\n",
    "from Bio import SeqIO, pairwise2\n",
    "\n",
    "# Parallelization and computing diagnosti packages\n",
    "from joblib import Parallel, delayed\n",
    "import timeit\n",
    "\n",
    "# Plotting packages\n",
    "import matplotlib.pyplot as plt\n",
    "\n",
    "# # --- Import our Code ---# #\n",
    "# Direct Coupling Analysis code\n",
    "from direct_info import direct_info\n",
    "\n",
    "# Import data processing and general DCA_ER tools\n",
    "from data_processing import data_processing, pdb2msa\n",
    "import tools\n",
    "# # -----------------------# #\n",
    "\n",
    "# Import ProDy code.\n",
    "from prody import *\n",
    "\n",
    "# Define Computational Resources\n",
    "n_cpus = 10"
   ]
  },
  {
   "cell_type": "markdown",
   "id": "977f04cf",
   "metadata": {},
   "source": [
    "## Define Data directories\n",
    "* data_path: Where is the MSA and pdb structure data\n",
    "* out_dir: Where do you want the processed MSA data to go\n",
    "* pdb_dir: Where do you want the PDB-MSA reference and structure data to go"
   ]
  },
  {
   "cell_type": "code",
   "execution_count": 13,
   "id": "efb180a4",
   "metadata": {},
   "outputs": [],
   "source": [
    "data_path = Path('/data/cresswellclayec/DCA_ER/Pfam-A.full')\n",
    "data_path = Path('/data/cresswellclayec/Pfam-A.full')\n",
    "\n",
    "# Define data directories\n",
    "DCA_ER_dir = '/data/cresswellclayec/ExpectationReflection_DCA' # Set DCA_ER directory\n",
    "\n",
    "# We make the directory and sub-directory to store data.\n",
    "out_dir = \"%s/protein_data\" % DCA_ER_dir\n",
    "processed_data_dir = \"%s/data_processing_output\" % out_dir\n",
    "pdb_dir = '%s/pdb_data/' % out_dir\n",
    "\n",
    "if not os.path.exists(out_dir):\n",
    "    os.makedirs(out_dir)\n",
    "    os.makedirs(processed_data_dir)\n",
    "    os.makedirs(pdb_dir)\n",
    "\n",
    "pfam_dir = \"/fdb/fastadb/pfam\"\n",
    "\n",
    "# Path to gzipped pdb file\n",
    "pdb_path = \"/pdb/pdb/zd/pdb1zdr.ent.gz\"\n"
   ]
  },
  {
   "cell_type": "markdown",
   "id": "7878374e",
   "metadata": {},
   "source": [
    "## Un-zip and load PDB file to get PDB structure (1zdr)"
   ]
  },
  {
   "cell_type": "code",
   "execution_count": 14,
   "id": "09fbc570",
   "metadata": {},
   "outputs": [
    {
     "name": "stdout",
     "output_type": "stream",
     "text": [
      "Unzipping /pdb/pdb/zd/pdb1zdr.ent.gz to /data/cresswellclayec/ExpectationReflection_DCA/protein_data/pdb_data/pdb1zdr.ent\n"
     ]
    }
   ],
   "source": [
    "import gzip, shutil\n",
    "def gunzip(file_path, output_path):\n",
    "    print('Unzipping %s to %s' % (file_path, output_path))\n",
    "    with gzip.open(file_path,\"rb\") as f_in, open(output_path,\"wb\") as f_out:\n",
    "        shutil.copyfileobj(f_in, f_out)\n",
    "\n",
    "        \n",
    "        \n",
    "unzipped_pdb_filename = os.path.basename(pdb_path).replace(\".gz\", \"\")\n",
    "pdb_out_path = \"%s%s\" % (pdb_dir, unzipped_pdb_filename)\n",
    "gunzip(pdb_path, pdb_out_path)"
   ]
  },
  {
   "cell_type": "markdown",
   "id": "980f007a",
   "metadata": {},
   "source": [
    "## Generate PDB2MSA Data\n",
    "* For each available polypeptide sequence in the PDB structure us ProDy to BLAST for corresponding sequences in the Pfam domain"
   ]
  },
  {
   "cell_type": "code",
   "execution_count": 16,
   "id": "761c13ec",
   "metadata": {},
   "outputs": [
    {
     "name": "stdout",
     "output_type": "stream",
     "text": [
      "PDB2MSA Results:\n",
      " [   Unnamed: 0 PDB ID Chain  Polypeptide Index     Pfam   accession   class  \\\n",
      "0           0   1zdr     B                  0  PF00186  PF00186.22  Domain   \n",
      "1           1   1zdr     A                  0  PF00186  PF00186.22  Domain   \n",
      "\n",
      "       id    type                                       PDB Sequence  ali_end  \\\n",
      "0  DHFR_1  Pfam-A  MISHIVAMDENRVIGKDNRLPWHLPADLAYFKRVTMGHAIVMGRKT...      160   \n",
      "1  DHFR_1  Pfam-A  MISHIVAMDENRVIGKDNRLPWHLPADLAYFKRVTMGHAIVMGRKT...      160   \n",
      "\n",
      "   ali_start  bitscore  end   cond_evalue    ind_evalue    evidence  hmm_end  \\\n",
      "0          1    215.11  160  2.300000e-68  4.500000e-64  hmmer v3.0      160   \n",
      "1          1    215.08  160  2.300000e-68  4.600000e-64  hmmer v3.0      160   \n",
      "\n",
      "   hmm_start  start  \n",
      "0          1      1  \n",
      "1          1      1  ]\n",
      "\n",
      "\n",
      "\n",
      "PDB DF with associated Protein Families\n",
      "    Unnamed: 0 PDB ID Chain  Polypeptide Index     Pfam   accession   class  \\\n",
      "0           0   1zdr     B                  0  PF00186  PF00186.22  Domain   \n",
      "1           1   1zdr     A                  0  PF00186  PF00186.22  Domain   \n",
      "\n",
      "       id    type  ali_end  ali_start  bitscore  end   cond_evalue  \\\n",
      "0  DHFR_1  Pfam-A      160          1    215.11  160  2.300000e-68   \n",
      "1  DHFR_1  Pfam-A      160          1    215.08  160  2.300000e-68   \n",
      "\n",
      "     ind_evalue    evidence  hmm_end  hmm_start  start  \n",
      "0  4.500000e-64  hmmer v3.0      160          1      1  \n",
      "1  4.600000e-64  hmmer v3.0      160          1      1  \n"
     ]
    }
   ],
   "source": [
    "pdb2msa_results = pdb2msa(pdb_out_path, pdb_dir, create_new=False)\n",
    "print('PDB2MSA Results:\\n', pdb2msa_results)\n",
    "\n",
    "if len(pdb2msa_results) > 1:\n",
    "    fasta_file = pdb2msa_results[0]\n",
    "    prody_df = pdb2msa_results[1]\n",
    "else:\n",
    "    prody_df = pdb2msa_results[0]\n",
    "\n",
    "\n",
    "print('\\n\\n\\nPDB DF with associated Protein Families\\n', prody_df.loc[:,  [column for column in prody_df.columns if column not in ['locations', 'PDB Sequence']]].head())"
   ]
  },
  {
   "cell_type": "markdown",
   "id": "1fb346f6",
   "metadata": {},
   "source": [
    "## Load and Pre-Process Pfam-MSA\n",
    "* With the PDB2MSA data we can now loop through all the different PDB-MSA pairings for all available sequences\n",
    "* Because the PDB2MSA data is ordered by PDB-polypeptide sequence to MSA alignment score the we "
   ]
  },
  {
   "cell_type": "code",
   "execution_count": 17,
   "id": "142e2441",
   "metadata": {},
   "outputs": [
    {
     "name": "stdout",
     "output_type": "stream",
     "text": [
      "\n",
      "\n",
      "\n",
      "Looping through Prody Search DataFrame:\n",
      "    Unnamed: 0 PDB ID Chain  Polypeptide Index     Pfam   accession   class  \\\n",
      "0           0   1zdr     B                  0  PF00186  PF00186.22  Domain   \n",
      "1           1   1zdr     A                  0  PF00186  PF00186.22  Domain   \n",
      "\n",
      "       id    type                                       PDB Sequence  ali_end  \\\n",
      "0  DHFR_1  Pfam-A  MISHIVAMDENRVIGKDNRLPWHLPADLAYFKRVTMGHAIVMGRKT...      160   \n",
      "1  DHFR_1  Pfam-A  MISHIVAMDENRVIGKDNRLPWHLPADLAYFKRVTMGHAIVMGRKT...      160   \n",
      "\n",
      "   ali_start  bitscore  end   cond_evalue    ind_evalue    evidence  hmm_end  \\\n",
      "0          1    215.11  160  2.300000e-68  4.500000e-64  hmmer v3.0      160   \n",
      "1          1    215.08  160  2.300000e-68  4.600000e-64  hmmer v3.0      160   \n",
      "\n",
      "   hmm_start  start  \n",
      "0          1      1  \n",
      "1          1      1  \n",
      "\n",
      "\n",
      "Getting msa with following pdb2msa entry:\n",
      " (0, Unnamed: 0                                                           0\n",
      "PDB ID                                                            1zdr\n",
      "Chain                                                                B\n",
      "Polypeptide Index                                                    0\n",
      "Pfam                                                           PF00186\n",
      "accession                                                   PF00186.22\n",
      "class                                                           Domain\n",
      "id                                                              DHFR_1\n",
      "type                                                            Pfam-A\n",
      "PDB Sequence         MISHIVAMDENRVIGKDNRLPWHLPADLAYFKRVTMGHAIVMGRKT...\n",
      "ali_end                                                            160\n",
      "ali_start                                                            1\n",
      "bitscore                                                        215.11\n",
      "end                                                                160\n",
      "cond_evalue                                                        0.0\n",
      "ind_evalue                                                         0.0\n",
      "evidence                                                    hmmer v3.0\n",
      "hmm_end                                                            160\n",
      "hmm_start                                                            1\n",
      "start                                                                1\n",
      "Name: 0, dtype: object)\n",
      "PDB ID: 1zdr, Pfam ID: PF00186\n",
      "Because create_new is False and files exist we will load preprocessed data:\n"
     ]
    },
    {
     "ename": "FileNotFoundError",
     "evalue": "[Errno 2] No such file or directory: '/data/cresswellclayec/ExpectationReflection_DCA/protein_data/data_processing_output/PF00186_1zdr_preproc_msa.npy'",
     "output_type": "error",
     "traceback": [
      "\u001b[0;31m---------------------------------------------------------------------------\u001b[0m",
      "\u001b[0;31mFileNotFoundError\u001b[0m                         Traceback (most recent call last)",
      "\u001b[0;32m/tmp/ipykernel_30249/934514128.py\u001b[0m in \u001b[0;36m<module>\u001b[0;34m\u001b[0m\n\u001b[1;32m      4\u001b[0m     \u001b[0mprint\u001b[0m\u001b[0;34m(\u001b[0m\u001b[0;34m'\\n\\nGetting msa with following pdb2msa entry:\\n'\u001b[0m\u001b[0;34m,\u001b[0m \u001b[0mpdb2msa_row\u001b[0m\u001b[0;34m)\u001b[0m\u001b[0;34m\u001b[0m\u001b[0;34m\u001b[0m\u001b[0m\n\u001b[1;32m      5\u001b[0m     \u001b[0;31m#try:\u001b[0m\u001b[0;34m\u001b[0m\u001b[0;34m\u001b[0m\u001b[0m\n\u001b[0;32m----> 6\u001b[0;31m     dp_result =  data_processing(data_path, prody_df.iloc[pdb2msa_row[0]], gap_seqs=0.2, gap_cols=0.2, prob_low=0.004,\n\u001b[0m\u001b[1;32m      7\u001b[0m                                \u001b[0mconserved_cols\u001b[0m\u001b[0;34m=\u001b[0m\u001b[0;36m0.8\u001b[0m\u001b[0;34m,\u001b[0m \u001b[0mprinting\u001b[0m\u001b[0;34m=\u001b[0m\u001b[0;32mTrue\u001b[0m\u001b[0;34m,\u001b[0m \u001b[0mout_dir\u001b[0m\u001b[0;34m=\u001b[0m\u001b[0mprocessed_data_dir\u001b[0m\u001b[0;34m,\u001b[0m \u001b[0mpdb_dir\u001b[0m\u001b[0;34m=\u001b[0m\u001b[0mpdb_dir\u001b[0m\u001b[0;34m,\u001b[0m \u001b[0mletter_format\u001b[0m\u001b[0;34m=\u001b[0m\u001b[0;32mFalse\u001b[0m\u001b[0;34m,\u001b[0m\u001b[0;34m\u001b[0m\u001b[0;34m\u001b[0m\u001b[0m\n\u001b[1;32m      8\u001b[0m                                remove_cols=True, create_new=True, n_cpu=min(2, n_cpus))\n",
      "\u001b[0;32m/gpfs/gsfs8/users/cresswellclayec/ExpectationReflection_DCA/data_processing.py\u001b[0m in \u001b[0;36mdata_processing\u001b[0;34m(data_path, pdb_df, gap_seqs, gap_cols, prob_low, conserved_cols, printing, out_dir, pdb_dir, letter_format, remove_cols, create_new, n_cpu)\u001b[0m\n\u001b[1;32m    485\u001b[0m     \u001b[0mprint\u001b[0m\u001b[0;34m(\u001b[0m\u001b[0;34m'Because create_new is False and files exist we will load preprocessed data:'\u001b[0m\u001b[0;34m)\u001b[0m\u001b[0;34m\u001b[0m\u001b[0;34m\u001b[0m\u001b[0m\n\u001b[1;32m    486\u001b[0m     \u001b[0;32mif\u001b[0m \u001b[0mremove_cols\u001b[0m\u001b[0;34m:\u001b[0m\u001b[0;34m\u001b[0m\u001b[0;34m\u001b[0m\u001b[0m\n\u001b[0;32m--> 487\u001b[0;31m         \u001b[0ms\u001b[0m \u001b[0;34m=\u001b[0m \u001b[0mnp\u001b[0m\u001b[0;34m.\u001b[0m\u001b[0mload\u001b[0m\u001b[0;34m(\u001b[0m\u001b[0;34m\"%s/%s_%s_preproc_msa.npy\"\u001b[0m \u001b[0;34m%\u001b[0m \u001b[0;34m(\u001b[0m\u001b[0mout_dir\u001b[0m\u001b[0;34m,\u001b[0m \u001b[0mpfam_id\u001b[0m\u001b[0;34m,\u001b[0m \u001b[0mpdb_id\u001b[0m\u001b[0;34m)\u001b[0m\u001b[0;34m)\u001b[0m\u001b[0;34m\u001b[0m\u001b[0;34m\u001b[0m\u001b[0m\n\u001b[0m\u001b[1;32m    488\u001b[0m         \u001b[0ms_index\u001b[0m \u001b[0;34m=\u001b[0m \u001b[0mnp\u001b[0m\u001b[0;34m.\u001b[0m\u001b[0mload\u001b[0m\u001b[0;34m(\u001b[0m\u001b[0;34m\"%s/%s_%s_preproc_sindex.npy\"\u001b[0m \u001b[0;34m%\u001b[0m \u001b[0;34m(\u001b[0m\u001b[0mout_dir\u001b[0m\u001b[0;34m,\u001b[0m \u001b[0mpfam_id\u001b[0m\u001b[0;34m,\u001b[0m \u001b[0mpdb_id\u001b[0m\u001b[0;34m)\u001b[0m\u001b[0;34m)\u001b[0m\u001b[0;34m\u001b[0m\u001b[0;34m\u001b[0m\u001b[0m\n\u001b[1;32m    489\u001b[0m         \u001b[0mremoved_cols\u001b[0m \u001b[0;34m=\u001b[0m \u001b[0mnp\u001b[0m\u001b[0;34m.\u001b[0m\u001b[0mload\u001b[0m\u001b[0;34m(\u001b[0m\u001b[0;34m\"%s/%s_%s_removed_cols.npy\"\u001b[0m \u001b[0;34m%\u001b[0m \u001b[0;34m(\u001b[0m\u001b[0mout_dir\u001b[0m\u001b[0;34m,\u001b[0m \u001b[0mpfam_id\u001b[0m\u001b[0;34m,\u001b[0m \u001b[0mpdb_id\u001b[0m\u001b[0;34m)\u001b[0m\u001b[0;34m)\u001b[0m\u001b[0;34m\u001b[0m\u001b[0;34m\u001b[0m\u001b[0m\n",
      "\u001b[0;32m/data/cresswellclayec/conda/envs/DCA_ER/lib/python3.9/site-packages/numpy/lib/npyio.py\u001b[0m in \u001b[0;36mload\u001b[0;34m(file, mmap_mode, allow_pickle, fix_imports, encoding)\u001b[0m\n\u001b[1;32m    415\u001b[0m             \u001b[0mown_fid\u001b[0m \u001b[0;34m=\u001b[0m \u001b[0;32mFalse\u001b[0m\u001b[0;34m\u001b[0m\u001b[0;34m\u001b[0m\u001b[0m\n\u001b[1;32m    416\u001b[0m         \u001b[0;32melse\u001b[0m\u001b[0;34m:\u001b[0m\u001b[0;34m\u001b[0m\u001b[0;34m\u001b[0m\u001b[0m\n\u001b[0;32m--> 417\u001b[0;31m             \u001b[0mfid\u001b[0m \u001b[0;34m=\u001b[0m \u001b[0mstack\u001b[0m\u001b[0;34m.\u001b[0m\u001b[0menter_context\u001b[0m\u001b[0;34m(\u001b[0m\u001b[0mopen\u001b[0m\u001b[0;34m(\u001b[0m\u001b[0mos_fspath\u001b[0m\u001b[0;34m(\u001b[0m\u001b[0mfile\u001b[0m\u001b[0;34m)\u001b[0m\u001b[0;34m,\u001b[0m \u001b[0;34m\"rb\"\u001b[0m\u001b[0;34m)\u001b[0m\u001b[0;34m)\u001b[0m\u001b[0;34m\u001b[0m\u001b[0;34m\u001b[0m\u001b[0m\n\u001b[0m\u001b[1;32m    418\u001b[0m             \u001b[0mown_fid\u001b[0m \u001b[0;34m=\u001b[0m \u001b[0;32mTrue\u001b[0m\u001b[0;34m\u001b[0m\u001b[0;34m\u001b[0m\u001b[0m\n\u001b[1;32m    419\u001b[0m \u001b[0;34m\u001b[0m\u001b[0m\n",
      "\u001b[0;31mFileNotFoundError\u001b[0m: [Errno 2] No such file or directory: '/data/cresswellclayec/ExpectationReflection_DCA/protein_data/data_processing_output/PF00186_1zdr_preproc_msa.npy'"
     ]
    }
   ],
   "source": [
    "print(\"\\n\\n\\nLooping through Prody Search DataFrame:\\n\", prody_df.head())\n",
    "rows_to_drop = []\n",
    "for ir, pdb2msa_row in enumerate(prody_df.iterrows()):\n",
    "    print('\\n\\nGetting msa with following pdb2msa entry:\\n', pdb2msa_row)\n",
    "    #try:\n",
    "    dp_result =  data_processing(data_path, prody_df.iloc[pdb2msa_row[0]], gap_seqs=0.2, gap_cols=0.2, prob_low=0.004,\n",
    "                               conserved_cols=0.8, printing=True, out_dir=processed_data_dir, pdb_dir=pdb_dir, letter_format=False,\n",
    "                               remove_cols=True, create_new=True, n_cpu=min(2, n_cpus))\n",
    "    if dp_result is not None:\n",
    "        [s0, removed_cols, s_index, tpdb, pdb_s_index] = dp_result\n",
    "        break\n",
    "    else:\n",
    "        rows_to_drop.append(ir)\n",
    "        continue\n",
    "\n",
    "\n",
    "\n",
    "pdb_id = pdb2msa_row[1]['PDB ID']\n",
    "pfam_id = pdb2msa_row[1]['Pfam']\n",
    "# update Prody search DF (use same filename as pdb2msa() in data_processing\n",
    "prody_df = prody_df.drop(rows_to_drop)\n",
    "print(\"\\n\\n\\nSaving updated Prody Search DataFrame:\\n\", prody_df.head())\n",
    "prody_df.to_csv('%s/%s_pdb_df.csv' % (pdb_dir, pdb_id))\n",
    "\n",
    "if dp_result is None:\n",
    "    print('None of the available prody pdb search found matching alignments... Exiting..')\n",
    "    sys.exit()\n",
    "print('Done Preprocessing Data.....')\n",
    "\n",
    "\n",
    "\n",
    "# number of positions\n",
    "n_var = s0.shape[1]\n",
    "n_seq = s0.shape[0]\n",
    "\n",
    "print(\"Number of residue positions:\",n_var)\n",
    "print(\"Number of sequences:\",n_seq)"
   ]
  },
  {
   "cell_type": "code",
   "execution_count": null,
   "id": "55d27dad",
   "metadata": {},
   "outputs": [],
   "source": []
  }
 ],
 "metadata": {
  "kernelspec": {
   "display_name": "Python 3 (ipykernel)",
   "language": "python",
   "name": "python3"
  },
  "language_info": {
   "codemirror_mode": {
    "name": "ipython",
    "version": 3
   },
   "file_extension": ".py",
   "mimetype": "text/x-python",
   "name": "python",
   "nbconvert_exporter": "python",
   "pygments_lexer": "ipython3",
   "version": "3.9.9"
  }
 },
 "nbformat": 4,
 "nbformat_minor": 5
}
